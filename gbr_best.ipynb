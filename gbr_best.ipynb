{
 "cells": [
  {
   "cell_type": "code",
   "execution_count": 1,
   "metadata": {},
   "outputs": [],
   "source": [
    "import numpy as np\n",
    "import pandas as pd\n",
    "import matplotlib.pyplot as plt\n",
    "from sklearn.model_selection import train_test_split\n",
    "from sklearn.ensemble import RandomForestRegressor\n",
    "from sklearn.metrics import r2_score"
   ]
  },
  {
   "cell_type": "code",
   "execution_count": 2,
   "metadata": {},
   "outputs": [],
   "source": [
    "test_data = pd.read_csv('test.csv')\n",
    "train_data = pd.read_csv('train.csv')"
   ]
  },
  {
   "cell_type": "code",
   "execution_count": 3,
   "metadata": {},
   "outputs": [],
   "source": [
    "# plt.scatter(test_data.Rooms, test_data.Square)"
   ]
  },
  {
   "cell_type": "code",
   "execution_count": 4,
   "metadata": {},
   "outputs": [],
   "source": [
    "# Функции для очистки и подготовки данных\n",
    "mean_year = np.round(train_data.loc[train_data['HouseYear'] <= 2020, 'HouseYear'].mean())\n",
    "mean_healthcare = np.round(train_data[\"Healthcare_1\"].mean())\n",
    "mean_square_for_max = train_data.loc[(train_data['Rooms'] <= train_data.loc[(train_data['Square'] > 300), 'Rooms'].mean()), 'Square'].mean()\n",
    "mean_square_for_big_ls = train_data.loc[train_data['LifeSquare'] > 250, 'Square'].mean()\n",
    "mean_life_squae_for_max = train_data.loc[train_data['Square'] >= mean_square_for_big_ls, 'LifeSquare'].mean()"
   ]
  },
  {
   "cell_type": "code",
   "execution_count": 5,
   "metadata": {},
   "outputs": [],
   "source": [
    "def clean_year(df, mean_year):\n",
    "    df.loc[df['HouseYear'] > 2020, 'HouseYear'] = mean_year"
   ]
  },
  {
   "cell_type": "code",
   "execution_count": 6,
   "metadata": {},
   "outputs": [],
   "source": [
    "def clean_life_square(df, koef_S_LS):\n",
    "    df.loc[(df['LifeSquare'] < 21) | (df['LifeSquare'].isnull()), 'LifeSquare'] = df['Square']*0.85\n",
    "    df.loc[df['LifeSquare'] > 250, 'LifeSquare'] = mean_life_squae_for_max"
   ]
  },
  {
   "cell_type": "code",
   "execution_count": 7,
   "metadata": {},
   "outputs": [],
   "source": [
    "def clean_square(df, mean_square_for_max):\n",
    "    df.loc[(df['Square'] > 300), 'Square'] = mean_square_for_max"
   ]
  },
  {
   "cell_type": "code",
   "execution_count": 8,
   "metadata": {},
   "outputs": [],
   "source": [
    "def clean_healthcare_1(df, mean_healthcare):\n",
    "    df.loc[df['Healthcare_1'].isnull(), 'Healthcare_1'] = mean_healthcare"
   ]
  },
  {
   "cell_type": "code",
   "execution_count": 9,
   "metadata": {},
   "outputs": [],
   "source": [
    "def clean_rooms(df):\n",
    "    df.loc[(df['Rooms'] < 1) & (df['LifeSquare'] < 30), 'Rooms'] = 1\n",
    "    df.loc[(df['Rooms'] < 1) & (df['LifeSquare'] > 30) & (df['LifeSquare'] < 45), 'Rooms'] = 2\n",
    "    df.loc[(df['Rooms'] < 1) & (df['LifeSquare'] > 45) & (df['LifeSquare'] < 60), 'Rooms'] = 3\n",
    "    df.loc[(df['Rooms'] < 1) & (df['LifeSquare'] > 60) & (df['LifeSquare'] < 75), 'Rooms'] = 4\n",
    "    df.loc[(df['Rooms'] < 1) & (df['LifeSquare'] > 70), 'Rooms'] = 6\n",
    "    df.loc[(df['Rooms'] > 10), 'Rooms'] = 2"
   ]
  },
  {
   "cell_type": "code",
   "execution_count": 10,
   "metadata": {},
   "outputs": [],
   "source": [
    "def prepare_data(df, mean_year=mean_year, mean_healthcare=mean_healthcare, mean_square_for_max=mean_square_for_max, mean_life_squae_for_max=mean_life_squae_for_max):\n",
    "    clean_year(df, mean_year)\n",
    "    clean_life_square(df, mean_life_squae_for_max)\n",
    "    clean_healthcare_1(df, mean_healthcare)\n",
    "    clean_rooms(df)\n",
    "    clean_square(df, mean_square_for_max)"
   ]
  },
  {
   "cell_type": "code",
   "execution_count": 11,
   "metadata": {},
   "outputs": [],
   "source": [
    "prepare_data(train_data)\n",
    "prepare_data(test_data)"
   ]
  },
  {
   "cell_type": "code",
   "execution_count": 12,
   "metadata": {},
   "outputs": [],
   "source": [
    "X = pd.get_dummies(train_data)\n",
    "X.drop(\"Price\", axis=1, inplace=True)\n",
    "X.drop(\"Id\", axis=1, inplace=True)\n",
    "y = train_data.Price"
   ]
  },
  {
   "cell_type": "code",
   "execution_count": 13,
   "metadata": {},
   "outputs": [],
   "source": [
    "# df_num_features = train_data.select_dtypes(include=['float64','uint8'])  # отбираем количественные признаки\n",
    "# import seaborn as sns\n",
    "# sns.pairplot(df_num_features);"
   ]
  },
  {
   "cell_type": "markdown",
   "metadata": {},
   "source": [
    "# GradientBoostingRegressor"
   ]
  },
  {
   "cell_type": "code",
   "execution_count": 14,
   "metadata": {},
   "outputs": [],
   "source": [
    "test_data = pd.read_csv('test.csv')\n",
    "train_data = pd.read_csv('train.csv')\n",
    "prepare_data(train_data)\n",
    "prepare_data(test_data)\n",
    "X = pd.get_dummies(train_data)\n",
    "X.drop(\"Price\", axis=1, inplace=True)\n",
    "X.drop(\"Id\", axis=1, inplace=True)\n",
    "y = train_data.Price"
   ]
  },
  {
   "cell_type": "code",
   "execution_count": 35,
   "metadata": {},
   "outputs": [
    {
     "name": "stdout",
     "output_type": "stream",
     "text": [
      "r2:  0.754177566833658 , KitchenSquare:  1\n",
      "r2:  0.7554334494911744 , KitchenSquare:  2\n",
      "r2:  0.7470031316294251 , KitchenSquare:  3\n",
      "r2:  0.7611377586076447 , KitchenSquare:  4\n",
      "r2:  0.7566267936577936 , KitchenSquare:  5\n",
      "r2:  0.7537185452061099 , KitchenSquare:  6\n",
      "r2:  0.7572424880521106 , KitchenSquare:  7\n",
      "r2:  0.7572424880521106 , KitchenSquare:  8\n",
      "r2:  0.7572424880521106 , KitchenSquare:  9\n",
      "r2:  0.7595701141229902 , KitchenSquare:  10\n",
      "r2:  0.7595701141229902 , KitchenSquare:  11\n",
      "r2:  0.7637329092455465 , KitchenSquare:  12\n",
      "r2:  0.7562348218489922 , KitchenSquare:  13\n",
      "r2:  0.7608988773408569 , KitchenSquare:  14\n",
      "r2:  0.7596691106640145 , KitchenSquare:  15\n",
      "r2:  0.7595734040664491 , KitchenSquare:  16\n",
      "r2:  0.7579921575364381 , KitchenSquare:  17\n",
      "r2:  0.7532676414870421 , KitchenSquare:  18\n",
      "r2:  0.7548560796297121 , KitchenSquare:  19\n",
      "r2:  0.7545349353927457 , KitchenSquare:  20\n",
      "r2:  0.7537968769269786 , KitchenSquare:  21\n",
      "r2:  0.754177566833658 , KitchenSquare:  22\n",
      "r2:  0.7542873483833817 , KitchenSquare:  23\n",
      "r2:  0.7638591816873224 , KitchenSquare:  24\n",
      "r2:  0.7581885049542455 , KitchenSquare:  25\n"
     ]
    }
   ],
   "source": [
    "k=0\n",
    "from sklearn.ensemble import GradientBoostingRegressor\n",
    "for number in range(25):\n",
    "    k=round(k+1,2)\n",
    "    X_train, X_valid, y_train, y_valid = train_test_split(X, y, test_size=0.16, random_state=42)\n",
    "    \n",
    "    # переобучение и оценка модели\n",
    "    def clean_life_square(df, koef_S_LS):\n",
    "        df.loc[(df['LifeSquare'] < k) | (df['LifeSquare'].isnull()), 'LifeSquare'] = df['Square']*0.5\n",
    "        df.loc[df['LifeSquare'] > 250, 'LifeSquare'] = mean_life_squae_for_max\n",
    "    \n",
    "#     def KitchenSquare(df, mean_square_for_max):\n",
    "#         df.loc[(df['KitchenSquare'] < 3) | (df['KitchenSquare'].isnull()), 'KitchenSquare'] = mean_square_Kitchen\n",
    "#         df.loc[(df['KitchenSquare'] > k)] = mean_square_Kitchen\n",
    "    \n",
    "#     def clean_square(df, mean_square_for_max):\n",
    "#         df.loc[(df['Square'] > 300), 'Square'] = mean_square_for_max\n",
    "\n",
    "\n",
    "    \n",
    "    test_data = pd.read_csv('test.csv')\n",
    "    train_data = pd.read_csv('train.csv')\n",
    "    prepare_data(train_data)\n",
    "    prepare_data(test_data)\n",
    "    X = pd.get_dummies(train_data)\n",
    "    X.drop(\"Price\", axis=1, inplace=True)\n",
    "    X.drop(\"Id\", axis=1, inplace=True)\n",
    "    y = train_data.Price\n",
    "#     print(train_data.LifeSquare.sum())\n",
    "    \n",
    "    final_model = GradientBoostingRegressor(n_estimators=200, max_depth=5, random_state=42\n",
    "                                           )\n",
    "    # min_samples_split=5, subsample=0.5 , min_samples_leaf=4 \n",
    "\n",
    "    final_model.fit(X_train, y_train)\n",
    "\n",
    "    y_pred_gbr = final_model.predict(X_valid)\n",
    "    y_pred_train_gbr = final_model.predict(X_train)\n",
    "\n",
    "    print('r2: ', r2_score(y_valid, y_pred_gbr),', KitchenSquare: ',k)"
   ]
  },
  {
   "cell_type": "code",
   "execution_count": 33,
   "metadata": {},
   "outputs": [
    {
     "data": {
      "text/plain": [
       "0.7577861874526557"
      ]
     },
     "execution_count": 33,
     "metadata": {},
     "output_type": "execute_result"
    }
   ],
   "source": [
    "X_train, X_valid, y_train, y_valid = train_test_split(X, y, test_size=0.16, random_state=42)\n",
    "# переобучение и оценка модели\n",
    "from sklearn.ensemble import GradientBoostingRegressor\n",
    "final_model = GradientBoostingRegressor(n_estimators=200, max_depth=5, random_state=42\n",
    "                                       )\n",
    "# min_samples_split=5, subsample=0.5 , min_samples_leaf=4 \n",
    "\n",
    "final_model.fit(X_train, y_train)\n",
    "\n",
    "y_pred_gbr = final_model.predict(X_valid)\n",
    "y_pred_train_gbr = final_model.predict(X_train)\n",
    "\n",
    "r2_score(y_valid, y_pred_gbr)"
   ]
  },
  {
   "cell_type": "code",
   "execution_count": 17,
   "metadata": {},
   "outputs": [],
   "source": [
    "# Предсказываем цены для тестовых данных и выгружаем в файл\n",
    "X_test = pd.get_dummies(test_data)\n",
    "X_test.drop(\"Id\", axis=1, inplace=True)\n",
    "test_data[\"Price\"] = final_model.predict(X_test)"
   ]
  },
  {
   "cell_type": "code",
   "execution_count": 18,
   "metadata": {},
   "outputs": [],
   "source": [
    "# экспорт в файл\n",
    "test_data.loc[:, ['Id', 'Price']].to_csv('best_gbr_02.csv', index=False)"
   ]
  },
  {
   "cell_type": "markdown",
   "metadata": {},
   "source": [
    "0.7621056876187297 - test_size=0.16 - n_estimators=200, max_depth=5, random_state=42 (0.75339)\n",
    "0.75142\n"
   ]
  },
  {
   "cell_type": "code",
   "execution_count": 16,
   "metadata": {},
   "outputs": [],
   "source": [
    "# k=1000\n",
    "# for number in range(200):\n",
    "#     X_train, X_valid, y_train, y_valid = train_test_split(X, y, test_size=0.16, random_state=42)\n",
    "#     # переобучение и оценка модели\n",
    "#     from sklearn.ensemble import GradientBoostingRegressor\n",
    "#     final_model = GradientBoostingRegressor(n_estimators=200, max_depth=5, random_state=42\n",
    "#                                            )\n",
    "#     # min_samples_split=5, subsample=0.5 , min_samples_leaf=4 \n",
    "\n",
    "#     final_model.fit(X_train, y_train)\n",
    "\n",
    "#     y_pred_gbr = final_model.predict(X_valid)\n",
    "#     y_pred_train_gbr = final_model.predict(X_train)\n",
    "\n",
    "#     print('r2: ', r2_score(y_valid, y_pred),', n_estimators: ',k)"
   ]
  },
  {
   "cell_type": "code",
   "execution_count": null,
   "metadata": {},
   "outputs": [],
   "source": []
  },
  {
   "cell_type": "code",
   "execution_count": 71,
   "metadata": {},
   "outputs": [],
   "source": [
    "from sklearn.metrics import r2_score as r2, mean_absolute_error as mae, mean_squared_error as mse\n",
    "import seaborn as sns\n",
    "def evaluate_preds(true_values, pred_values):\n",
    "    print(\"R2:\\t\" + str(round(r2(true_values, pred_values), 9)) + \"\\n\" +\n",
    "          \"MAE:\\t\" + str(round(mae(true_values, pred_values), 9)) + \"\\n\" +\n",
    "          \"MSE:\\t\" + str(round(mse(true_values, pred_values), 9)))\n",
    "    \n",
    "    plt.figure(figsize=(10,10)) \n",
    "    \n",
    "    sns.scatterplot(x=pred_values, y=true_values)\n",
    "    \n",
    "    plt.xlabel('Predicted values')\n",
    "    plt.ylabel('True values')\n",
    "    plt.title('True vs Predicted values')\n",
    "    plt.show()"
   ]
  },
  {
   "cell_type": "code",
   "execution_count": 76,
   "metadata": {},
   "outputs": [],
   "source": [
    "# y_train_preds = final_model.predict(X_train)\n",
    "# evaluate_preds(y_train, y_train_preds)"
   ]
  }
 ],
 "metadata": {
  "kernelspec": {
   "display_name": "Python 3",
   "language": "python",
   "name": "python3"
  },
  "language_info": {
   "codemirror_mode": {
    "name": "ipython",
    "version": 3
   },
   "file_extension": ".py",
   "mimetype": "text/x-python",
   "name": "python",
   "nbconvert_exporter": "python",
   "pygments_lexer": "ipython3",
   "version": "3.7.4"
  }
 },
 "nbformat": 4,
 "nbformat_minor": 2
}
